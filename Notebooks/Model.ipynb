{
 "cells": [
  {
   "cell_type": "code",
   "execution_count": 82,
   "metadata": {},
   "outputs": [],
   "source": [
    "from keras.layers import Activation, Reshape, Dropout\n",
    "from keras.layers import Conv2D, MaxPooling2D\n",
    "from keras.models import Sequential\n",
    "import numpy as np\n",
    "import matplotlib.pyplot as plt\n",
    "%matplotlib inline"
   ]
  },
  {
   "cell_type": "code",
   "execution_count": 21,
   "metadata": {},
   "outputs": [],
   "source": [
    "def get_frontend(input_width,input_height) :\n",
    "    \n",
    "    model = Sequential()\n",
    "    \n",
    "    model.add(Conv2D(64,(3,3),activation='relu',padding = 'same',name = 'conv1_1',input_shape =(input_width, input_height, 3)))\n",
    "    model.add(Conv2D(64,(3,3),activation='relu',padding = 'same',name = 'conv1_2'))\n",
    "    model.add(MaxPooling2D(pool_size=(2,2),name = 'pool_1'))\n",
    "\n",
    "    \n",
    "    model.add(Conv2D(128,(3,3),activation='relu',padding = 'same',name = 'conv2_1'))\n",
    "    model.add(Conv2D(128,(3,3),activation='relu',padding = 'same',name = 'conv2_2'))\n",
    "    model.add(MaxPooling2D(pool_size=(2,2),name = 'pool_2'))\n",
    "    \n",
    "    model.add(Conv2D(256,(3,3),activation='relu',padding = 'same',name = 'conv3_1'))\n",
    "    model.add(Conv2D(256,(3,3),activation='relu',padding = 'same',name = 'conv3_2'))\n",
    "    model.add(Conv2D(256,(3,3),activation='relu',padding = 'same',name = 'conv3_3'))\n",
    "    model.add(MaxPooling2D(pool_size=(2,2),name = 'pool_3'))\n",
    "    \n",
    "    model.add(Conv2D(512,(3,3),activation='relu',padding = 'same',name = 'conv4_1'))\n",
    "    model.add(Conv2D(512,(3,3),activation='relu',padding = 'same',name = 'conv4_2'))\n",
    "    model.add(Conv2D(512,(3,3),activation='relu',padding = 'same',name = 'conv4_3'))\n",
    "    \n",
    "    model.add(Conv2D(512,(3,3),activation='relu',dilation_rate= (2,2), padding = 'same',name = 'conv5_1'))\n",
    "    model.add(Conv2D(512,(3,3),activation='relu',dilation_rate= (2,2), padding = 'same',name = 'conv5_2'))\n",
    "    model.add(Conv2D(512,(3,3),activation='relu',dilation_rate= (2,2), padding = 'same',name = 'conv5_3'))\n",
    "    \n",
    "    \n",
    "    model.add(Conv2D(4096,(7,7),dilation_rate= (4,4), padding = \"same\", activation='relu', name = \"fc6\"))\n",
    "    model.add(Dropout(0.5))\n",
    "    model.add(Conv2D(4096,(1,1),activation='relu',padding = \"same\",name = \"fc7\"))\n",
    "    model.add(Dropout(0.5))\n",
    "    \n",
    "    model.add(Conv2D(21,(1,1),activation='linear',name = 'fc-final'))\n",
    "    \n",
    "    return model\n",
    "    \n",
    "    "
   ]
  },
  {
   "cell_type": "code",
   "execution_count": 22,
   "metadata": {},
   "outputs": [],
   "source": [
    "model = get_frontend(512,512)"
   ]
  },
  {
   "cell_type": "code",
   "execution_count": 23,
   "metadata": {},
   "outputs": [
    {
     "name": "stdout",
     "output_type": "stream",
     "text": [
      "_________________________________________________________________\n",
      "Layer (type)                 Output Shape              Param #   \n",
      "=================================================================\n",
      "conv1_1 (Conv2D)             (None, 512, 512, 64)      1792      \n",
      "_________________________________________________________________\n",
      "conv1_2 (Conv2D)             (None, 512, 512, 64)      36928     \n",
      "_________________________________________________________________\n",
      "pool_1 (MaxPooling2D)        (None, 256, 256, 64)      0         \n",
      "_________________________________________________________________\n",
      "conv2_1 (Conv2D)             (None, 256, 256, 128)     73856     \n",
      "_________________________________________________________________\n",
      "conv2_2 (Conv2D)             (None, 256, 256, 128)     147584    \n",
      "_________________________________________________________________\n",
      "pool_2 (MaxPooling2D)        (None, 128, 128, 128)     0         \n",
      "_________________________________________________________________\n",
      "conv3_1 (Conv2D)             (None, 128, 128, 256)     295168    \n",
      "_________________________________________________________________\n",
      "conv3_2 (Conv2D)             (None, 128, 128, 256)     590080    \n",
      "_________________________________________________________________\n",
      "conv3_3 (Conv2D)             (None, 128, 128, 256)     590080    \n",
      "_________________________________________________________________\n",
      "pool_3 (MaxPooling2D)        (None, 64, 64, 256)       0         \n",
      "_________________________________________________________________\n",
      "conv4_1 (Conv2D)             (None, 64, 64, 512)       1180160   \n",
      "_________________________________________________________________\n",
      "conv4_2 (Conv2D)             (None, 64, 64, 512)       2359808   \n",
      "_________________________________________________________________\n",
      "conv4_3 (Conv2D)             (None, 64, 64, 512)       2359808   \n",
      "_________________________________________________________________\n",
      "conv5_1 (Conv2D)             (None, 64, 64, 512)       2359808   \n",
      "_________________________________________________________________\n",
      "conv5_2 (Conv2D)             (None, 64, 64, 512)       2359808   \n",
      "_________________________________________________________________\n",
      "conv5_3 (Conv2D)             (None, 64, 64, 512)       2359808   \n",
      "_________________________________________________________________\n",
      "fc6 (Conv2D)                 (None, 64, 64, 4096)      102764544 \n",
      "_________________________________________________________________\n",
      "dropout_13 (Dropout)         (None, 64, 64, 4096)      0         \n",
      "_________________________________________________________________\n",
      "fc7 (Conv2D)                 (None, 64, 64, 4096)      16781312  \n",
      "_________________________________________________________________\n",
      "dropout_14 (Dropout)         (None, 64, 64, 4096)      0         \n",
      "_________________________________________________________________\n",
      "fc-final (Conv2D)            (None, 64, 64, 21)        86037     \n",
      "=================================================================\n",
      "Total params: 134,346,581\n",
      "Trainable params: 134,346,581\n",
      "Non-trainable params: 0\n",
      "_________________________________________________________________\n"
     ]
    }
   ],
   "source": [
    "model.summary()"
   ]
  },
  {
   "cell_type": "code",
   "execution_count": 36,
   "metadata": {},
   "outputs": [],
   "source": [
    "def add_softmax(model) :\n",
    "    \n",
    "    _, curr_width, curr_height, curr_channels = model.layers[-1].output_shape\n",
    "    \n",
    "    \n",
    "    model.add(Activation('softmax'))\n",
    "    return model"
   ]
  },
  {
   "cell_type": "code",
   "execution_count": 37,
   "metadata": {},
   "outputs": [],
   "source": [
    "model = get_frontend(512,512)\n",
    "model = add_softmax(model)"
   ]
  },
  {
   "cell_type": "code",
   "execution_count": 38,
   "metadata": {},
   "outputs": [
    {
     "name": "stdout",
     "output_type": "stream",
     "text": [
      "_________________________________________________________________\n",
      "Layer (type)                 Output Shape              Param #   \n",
      "=================================================================\n",
      "conv1_1 (Conv2D)             (None, 512, 512, 64)      1792      \n",
      "_________________________________________________________________\n",
      "conv1_2 (Conv2D)             (None, 512, 512, 64)      36928     \n",
      "_________________________________________________________________\n",
      "pool_1 (MaxPooling2D)        (None, 256, 256, 64)      0         \n",
      "_________________________________________________________________\n",
      "conv2_1 (Conv2D)             (None, 256, 256, 128)     73856     \n",
      "_________________________________________________________________\n",
      "conv2_2 (Conv2D)             (None, 256, 256, 128)     147584    \n",
      "_________________________________________________________________\n",
      "pool_2 (MaxPooling2D)        (None, 128, 128, 128)     0         \n",
      "_________________________________________________________________\n",
      "conv3_1 (Conv2D)             (None, 128, 128, 256)     295168    \n",
      "_________________________________________________________________\n",
      "conv3_2 (Conv2D)             (None, 128, 128, 256)     590080    \n",
      "_________________________________________________________________\n",
      "conv3_3 (Conv2D)             (None, 128, 128, 256)     590080    \n",
      "_________________________________________________________________\n",
      "pool_3 (MaxPooling2D)        (None, 64, 64, 256)       0         \n",
      "_________________________________________________________________\n",
      "conv4_1 (Conv2D)             (None, 64, 64, 512)       1180160   \n",
      "_________________________________________________________________\n",
      "conv4_2 (Conv2D)             (None, 64, 64, 512)       2359808   \n",
      "_________________________________________________________________\n",
      "conv4_3 (Conv2D)             (None, 64, 64, 512)       2359808   \n",
      "_________________________________________________________________\n",
      "conv5_1 (Conv2D)             (None, 64, 64, 512)       2359808   \n",
      "_________________________________________________________________\n",
      "conv5_2 (Conv2D)             (None, 64, 64, 512)       2359808   \n",
      "_________________________________________________________________\n",
      "conv5_3 (Conv2D)             (None, 64, 64, 512)       2359808   \n",
      "_________________________________________________________________\n",
      "fc6 (Conv2D)                 (None, 64, 64, 4096)      102764544 \n",
      "_________________________________________________________________\n",
      "dropout_25 (Dropout)         (None, 64, 64, 4096)      0         \n",
      "_________________________________________________________________\n",
      "fc7 (Conv2D)                 (None, 64, 64, 4096)      16781312  \n",
      "_________________________________________________________________\n",
      "dropout_26 (Dropout)         (None, 64, 64, 4096)      0         \n",
      "_________________________________________________________________\n",
      "fc-final (Conv2D)            (None, 64, 64, 21)        86037     \n",
      "_________________________________________________________________\n",
      "activation_6 (Activation)    (None, 64, 64, 21)        0         \n",
      "=================================================================\n",
      "Total params: 134,346,581\n",
      "Trainable params: 134,346,581\n",
      "Non-trainable params: 0\n",
      "_________________________________________________________________\n"
     ]
    }
   ],
   "source": [
    "model.summary()"
   ]
  },
  {
   "cell_type": "code",
   "execution_count": 39,
   "metadata": {},
   "outputs": [],
   "source": [
    "def add_context(model,no_of_classes) :\n",
    "    \n",
    "    model.add(Conv2D(no_of_classes*2,(3,3),padding = \"same\",activation = 'relu', name = \"ct_conv1_1\"))\n",
    "    model.add(Conv2D(no_of_classes*2,(3,3),padding = \"same\",activation = 'relu', name = \"ct_conv1_2\"))\n",
    "\n",
    "    model.add(Conv2D(no_of_classes*4,(3,3),padding = \"same\",dilation_rate = (2,2),activation = 'relu', name = \"ct_conv2_1\"))\n",
    "    model.add(Conv2D(no_of_classes*8,(3,3),padding = \"same\",dilation_rate = (4,4),activation = 'relu', name = \"ct_conv3_1\"))\n",
    "    model.add(Conv2D(no_of_classes*16,(3,3),padding = 'same', dilation_rate = (8,8),activation = 'relu', name = \"ct_conv4_1\"))\n",
    "    model.add(Conv2D(no_of_classes*32,(3,3), padding = 'same',dilation_rate = (16,16),activation = 'relu', name = \"ct_conv5_1\"))\n",
    "    \n",
    "    model.add(Conv2D(no_of_classes*32,(3,3),padding = 'same', activation = 'relu', name = \"ct_fc1\"))\n",
    "    model.add(Conv2D(no_of_classes,(1,1),activation = 'relu', name = \"ct_final\"))\n",
    "    \n",
    "    return model"
   ]
  },
  {
   "cell_type": "code",
   "execution_count": 40,
   "metadata": {},
   "outputs": [],
   "source": [
    "model = get_frontend(512,512)\n",
    "model = add_context(model,21)\n",
    "model = add_softmax(model)"
   ]
  },
  {
   "cell_type": "code",
   "execution_count": 32,
   "metadata": {},
   "outputs": [
    {
     "name": "stdout",
     "output_type": "stream",
     "text": [
      "_________________________________________________________________\n",
      "Layer (type)                 Output Shape              Param #   \n",
      "=================================================================\n",
      "conv1_1 (Conv2D)             (None, 512, 512, 64)      1792      \n",
      "_________________________________________________________________\n",
      "conv1_2 (Conv2D)             (None, 512, 512, 64)      36928     \n",
      "_________________________________________________________________\n",
      "pool_1 (MaxPooling2D)        (None, 256, 256, 64)      0         \n",
      "_________________________________________________________________\n",
      "conv2_1 (Conv2D)             (None, 256, 256, 128)     73856     \n",
      "_________________________________________________________________\n",
      "conv2_2 (Conv2D)             (None, 256, 256, 128)     147584    \n",
      "_________________________________________________________________\n",
      "pool_2 (MaxPooling2D)        (None, 128, 128, 128)     0         \n",
      "_________________________________________________________________\n",
      "conv3_1 (Conv2D)             (None, 128, 128, 256)     295168    \n",
      "_________________________________________________________________\n",
      "conv3_2 (Conv2D)             (None, 128, 128, 256)     590080    \n",
      "_________________________________________________________________\n",
      "conv3_3 (Conv2D)             (None, 128, 128, 256)     590080    \n",
      "_________________________________________________________________\n",
      "pool_3 (MaxPooling2D)        (None, 64, 64, 256)       0         \n",
      "_________________________________________________________________\n",
      "conv4_1 (Conv2D)             (None, 64, 64, 512)       1180160   \n",
      "_________________________________________________________________\n",
      "conv4_2 (Conv2D)             (None, 64, 64, 512)       2359808   \n",
      "_________________________________________________________________\n",
      "conv4_3 (Conv2D)             (None, 64, 64, 512)       2359808   \n",
      "_________________________________________________________________\n",
      "conv5_1 (Conv2D)             (None, 64, 64, 512)       2359808   \n",
      "_________________________________________________________________\n",
      "conv5_2 (Conv2D)             (None, 64, 64, 512)       2359808   \n",
      "_________________________________________________________________\n",
      "conv5_3 (Conv2D)             (None, 64, 64, 512)       2359808   \n",
      "_________________________________________________________________\n",
      "fc6 (Conv2D)                 (None, 64, 64, 4096)      102764544 \n",
      "_________________________________________________________________\n",
      "dropout_21 (Dropout)         (None, 64, 64, 4096)      0         \n",
      "_________________________________________________________________\n",
      "fc7 (Conv2D)                 (None, 64, 64, 4096)      16781312  \n",
      "_________________________________________________________________\n",
      "dropout_22 (Dropout)         (None, 64, 64, 4096)      0         \n",
      "_________________________________________________________________\n",
      "fc-final (Conv2D)            (None, 64, 64, 21)        86037     \n",
      "_________________________________________________________________\n",
      "ct_conv1_1 (Conv2D)          (None, 64, 64, 42)        7980      \n",
      "_________________________________________________________________\n",
      "ct_conv1_2 (Conv2D)          (None, 64, 64, 42)        15918     \n",
      "_________________________________________________________________\n",
      "ct_conv2_1 (Conv2D)          (None, 64, 64, 84)        31836     \n",
      "_________________________________________________________________\n",
      "ct_conv3_1 (Conv2D)          (None, 64, 64, 168)       127176    \n",
      "_________________________________________________________________\n",
      "ct_conv4_1 (Conv2D)          (None, 64, 64, 336)       508368    \n",
      "_________________________________________________________________\n",
      "ct_conv5_1 (Conv2D)          (None, 64, 64, 672)       2032800   \n",
      "_________________________________________________________________\n",
      "ct_fc1 (Conv2D)              (None, 64, 64, 672)       4064928   \n",
      "_________________________________________________________________\n",
      "ct_final (Conv2D)            (None, 64, 64, 21)        14133     \n",
      "_________________________________________________________________\n",
      "activation_4 (Activation)    (None, 64, 64, 21)        0         \n",
      "=================================================================\n",
      "Total params: 141,149,720\n",
      "Trainable params: 141,149,720\n",
      "Non-trainable params: 0\n",
      "_________________________________________________________________\n"
     ]
    }
   ],
   "source": [
    "model.summary()"
   ]
  },
  {
   "cell_type": "code",
   "execution_count": 43,
   "metadata": {},
   "outputs": [],
   "source": [
    "weights_data = np.load(\"/media/guru/98306C94306C7AE0/Projects/conversion/converted/dilation8_pascal_voc.npy\", encoding='latin1').item()"
   ]
  },
  {
   "cell_type": "code",
   "execution_count": 44,
   "metadata": {},
   "outputs": [
    {
     "name": "stdout",
     "output_type": "stream",
     "text": [
      "pool_1\n",
      "pool_2\n",
      "pool_3\n",
      "dropout_27\n",
      "dropout_28\n",
      "activation_7\n"
     ]
    }
   ],
   "source": [
    "for layer in model.layers:\n",
    "    if layer.name in weights_data.keys():\n",
    "        layer_weights = weights_data[layer.name]\n",
    "        layer.set_weights((layer_weights['weights'],layer_weights['biases']))\n",
    "    else :\n",
    "        print(layer.name)"
   ]
  },
  {
   "cell_type": "code",
   "execution_count": 45,
   "metadata": {},
   "outputs": [],
   "source": [
    "from PIL import Image"
   ]
  },
  {
   "cell_type": "code",
   "execution_count": 84,
   "metadata": {},
   "outputs": [],
   "source": [
    "image_rgb = np.array(Image.open(\"/home/guru/Desktop/Webp.net-resizeimage.jpg\")).astype(np.float32)"
   ]
  },
  {
   "cell_type": "code",
   "execution_count": 85,
   "metadata": {},
   "outputs": [
    {
     "data": {
      "text/plain": [
       "(512, 512, 3)"
      ]
     },
     "execution_count": 85,
     "metadata": {},
     "output_type": "execute_result"
    }
   ],
   "source": [
    "image_rgb.shape"
   ]
  },
  {
   "cell_type": "code",
   "execution_count": 86,
   "metadata": {},
   "outputs": [],
   "source": [
    "mean = [102.93, 111.36, 116.52]"
   ]
  },
  {
   "cell_type": "code",
   "execution_count": 87,
   "metadata": {},
   "outputs": [],
   "source": [
    "image = image_rgb[:, :, ::-1] - mean"
   ]
  },
  {
   "cell_type": "code",
   "execution_count": 88,
   "metadata": {},
   "outputs": [
    {
     "data": {
      "text/plain": [
       "(512, 512, 3)"
      ]
     },
     "execution_count": 88,
     "metadata": {},
     "output_type": "execute_result"
    }
   ],
   "source": [
    "image.shape"
   ]
  },
  {
   "cell_type": "code",
   "execution_count": 89,
   "metadata": {},
   "outputs": [],
   "source": [
    " image_size = image.shape"
   ]
  },
  {
   "cell_type": "code",
   "execution_count": 90,
   "metadata": {},
   "outputs": [],
   "source": [
    "input_width, input_height = 512, 512\n",
    "label_margin = 186\n",
    "net_in = np.zeros((1, input_height, input_width, 3), dtype=np.float32)"
   ]
  },
  {
   "cell_type": "code",
   "execution_count": 54,
   "metadata": {},
   "outputs": [],
   "source": [
    "output_height = input_height - 2 * label_margin\n",
    "output_width = input_width - 2 * label_margin"
   ]
  },
  {
   "cell_type": "code",
   "execution_count": 91,
   "metadata": {},
   "outputs": [],
   "source": [
    "mage = np.pad(image,\n",
    "                   ((label_margin, label_margin),\n",
    "                    (label_margin, label_margin),\n",
    "                    (0, 0)), 'reflect')"
   ]
  },
  {
   "cell_type": "code",
   "execution_count": 92,
   "metadata": {},
   "outputs": [],
   "source": [
    "margins_h = (0, input_height - image.shape[0])\n",
    "margins_w = (0, input_width - image.shape[1])\n",
    "image = np.pad(image,(margins_h,margins_w,(0, 0)), 'reflect')"
   ]
  },
  {
   "cell_type": "code",
   "execution_count": 119,
   "metadata": {},
   "outputs": [],
   "source": [
    "net_in[0] = image\n",
    "prob = model.predict(net_in)[0]"
   ]
  },
  {
   "cell_type": "code",
   "execution_count": 137,
   "metadata": {},
   "outputs": [
    {
     "data": {
      "text/plain": [
       "(64, 64, 21)"
      ]
     },
     "execution_count": 137,
     "metadata": {},
     "output_type": "execute_result"
    }
   ],
   "source": [
    "prob.shape"
   ]
  },
  {
   "cell_type": "code",
   "execution_count": 140,
   "metadata": {},
   "outputs": [],
   "source": [
    "prob = np.pad(prob,((1,1),(1,1),(0,0)),'reflect')"
   ]
  },
  {
   "cell_type": "code",
   "execution_count": 141,
   "metadata": {},
   "outputs": [
    {
     "data": {
      "text/plain": [
       "(66, 66, 21)"
      ]
     },
     "execution_count": 141,
     "metadata": {},
     "output_type": "execute_result"
    }
   ],
   "source": [
    "prob.shape"
   ]
  },
  {
   "cell_type": "code",
   "execution_count": 145,
   "metadata": {},
   "outputs": [],
   "source": [
    "def interp_map(prob, zoom, width, height):\n",
    "    zoom_prob = np.zeros((height, width, prob.shape[2]), dtype=np.float32)\n",
    "    for c in range(prob.shape[2]):\n",
    "        for h in range(height):\n",
    "            for w in range(width):\n",
    "                r0 = h // zoom\n",
    "                \n",
    "                r1 = r0 + 1\n",
    "                c0 = w // zoom\n",
    "                c1 = c0 + 1\n",
    "                rt = float(h) / zoom - r0\n",
    "                ct = float(w) / zoom - c0\n",
    "                #print(c0)\n",
    "                v0 = rt * prob[r1, c0, c] + (1 - rt) * prob[r0, c0, c]\n",
    "                v1 = rt * prob[r1, c1, c] + (1 - rt) * prob[r0, c1, c]\n",
    "                zoom_prob[h, w, c] = (1 - ct) * v0 + ct * v1\n",
    "    return zoom_prob"
   ]
  },
  {
   "cell_type": "code",
   "execution_count": 146,
   "metadata": {},
   "outputs": [],
   "source": [
    "prob = interp_map(prob,8,512,512)"
   ]
  },
  {
   "cell_type": "code",
   "execution_count": 147,
   "metadata": {},
   "outputs": [],
   "source": [
    "prediction = np.argmax(prob, axis=2)\n"
   ]
  },
  {
   "cell_type": "code",
   "execution_count": null,
   "metadata": {},
   "outputs": [],
   "source": []
  },
  {
   "cell_type": "code",
   "execution_count": 148,
   "metadata": {},
   "outputs": [
    {
     "data": {
      "text/plain": [
       "(512, 512)"
      ]
     },
     "execution_count": 148,
     "metadata": {},
     "output_type": "execute_result"
    }
   ],
   "source": [
    "prediction.shape"
   ]
  },
  {
   "cell_type": "code",
   "execution_count": 149,
   "metadata": {},
   "outputs": [
    {
     "data": {
      "text/plain": [
       "<matplotlib.image.AxesImage at 0x7f8eb84aa0d0>"
      ]
     },
     "execution_count": 149,
     "metadata": {},
     "output_type": "execute_result"
    },
    {
     "data": {
      "image/png": "[encoded data removed]",
      "text/plain": [
       "<matplotlib.figure.Figure at 0x7f8eb8516990>"
      ]
     },
     "metadata": {},
     "output_type": "display_data"
    }
   ],
   "source": [
    "plt.imshow(prediction)"
   ]
  },
  {
   "cell_type": "code",
   "execution_count": null,
   "metadata": {},
   "outputs": [],
   "source": []
  }
 ],
 "metadata": {
  "kernelspec": {
   "display_name": "Python 2",
   "language": "python",
   "name": "python2"
  },
  "language_info": {
   "codemirror_mode": {
    "name": "ipython",
    "version": 2
   },
   "file_extension": ".py",
   "mimetype": "text/x-python",
   "name": "python",
   "nbconvert_exporter": "python",
   "pygments_lexer": "ipython2",
   "version": "2.7.12"
  }
 },
 "nbformat": 4,
 "nbformat_minor": 2
}
